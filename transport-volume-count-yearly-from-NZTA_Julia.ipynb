{
 "cells": [
  {
   "cell_type": "markdown",
   "id": "89693758",
   "metadata": {},
   "source": [
    "# Transport volume count data\n",
    "### Source website:\n",
    "https://www.nzta.govt.nz/resources/state-highway-traffic-volumes/\n"
   ]
  },
  {
   "cell_type": "code",
   "execution_count": 1,
   "id": "38f7fdd9",
   "metadata": {},
   "outputs": [],
   "source": [
    "using Pkg\n",
    "using HTTP\n",
    "using Cascadia, Gumbo"
   ]
  },
  {
   "cell_type": "code",
   "execution_count": 11,
   "id": "a09ba128",
   "metadata": {},
   "outputs": [
    {
     "data": {
      "text/plain": [
       "HTTP.Messages.Response:\n",
       "\"\"\"\n",
       "HTTP/1.1 200 OK\r\n",
       "Server: nginx\r\n",
       "Date: Sat, 22 Oct 2022 07:50:36 GMT\r\n",
       "Content-Type: text/html; charset=utf-8\r\n",
       "Content-Length: 8256\r\n",
       "Connection: keep-alive\r\n",
       "X-Frame-Options: SAMEORIGIN\r\n",
       "x-frame-options: SAMEORIGIN\r\n",
       "x-ua-compatible: IE=edge\r\n",
       "x-xss-protection: 1; mode=block\r\n",
       "x-content-type-options: nosniff\r\n",
       "cache-control: public, must-revalidate, max-age=300\r\n",
       "expires: Sat, 22 Oct 2022 07:55:35 GMT\r\n",
       "etag: \"f76ab44e3305380b0eb881fbceafe9fc-gzip\"\r\n",
       "Content-Encoding: gzip\r\n",
       "Referrer-Policy: no-referrer-when-downgrade\r\n",
       "Strict-Transport-Security: max-age=31536000\r\n",
       "X-Varnish: 815681499\r\n",
       "Age: 0\r\n",
       "Vary: Cookie,Accept-Language,Accept-Encoding\r\n",
       "Accept-Ranges: bytes\r\n",
       "X-CDN: Imperva\r\n",
       "X-Iinfo: 5-80697460-80697667 nNNN RT(1666425034561 1039) q(0 1 3 -1) r(4 8) U4\r\n",
       "\r\n",
       "<!doctype html>\n",
       "<html class=\"no-js ie\" lang=\"en-NZ\">\n",
       "<head>\n",
       "\t<meta http-equiv=\"X-UA-Compatible\" content=\"IE=edge\" />\n",
       "\t<base href=\"https://www.nzta.govt.nz/\"><!--[if lte IE 6]></base><![endif]-->\n",
       "\t<title>State highway traffic volumes 1975–2020  | Waka Kotahi NZ Transport Agency</title>\n",
       "\t<meta name=\"generator\" content=\"SilverStripe - https://www.silverstripe.org\" />\n",
       "<meta http-equiv=\"Content-Type\" content=\"text/html; charset=utf-8\" />\n",
       "<meta name=\"description\" content=\"The information of state highway traffic volumes comes from the Transport Agency&#039;s state highway traffic data collection system. This system is used to provide network usage statistics for approximately 1500 monitoring sites.\" />\n",
       "\t<meta name=\"google-site-verification\" content=\"WQ2hnRdEZZ02Pc9GgQpyaOj48GKTRlgvnQ5JFKkVv9Q\" />\n",
       "\t\n",
       "\t\t<meta name=\"viewport\" content=\"width=device-width, initial-scale=1\">\n",
       "\t\n",
       "\t\n",
       "\t\n",
       "\t\n",
       "\t\n",
       "\t\t<link rel=\"shortcut icon\" href=\"/_resources/themes/default/ico/favicon.ico?v=1354d86460fb31e713f1c79ee22f66d2&a\n",
       "⋮\n",
       "39740-byte body\n",
       "\"\"\""
      ]
     },
     "execution_count": 11,
     "metadata": {},
     "output_type": "execute_result"
    }
   ],
   "source": [
    "url = \"https://www.nzta.govt.nz/resources/state-highway-traffic-volumes/\"\n",
    "resp = HTTP.get(url)"
   ]
  },
  {
   "cell_type": "code",
   "execution_count": 12,
   "id": "bf1ccfbf",
   "metadata": {},
   "outputs": [
    {
     "data": {
      "text/plain": [
       "HTML Document:\n",
       "<!DOCTYPE html>\n",
       "HTMLElement{:HTML}:<HTML class=\"no-js ie\" lang=\"en-NZ\">\n",
       "  <head>\n",
       "    <meta content=\"IE=edge\" http-equiv=\"X-UA-Compatible\"/>\n",
       "    <base href=\"https://www.nzta.govt.nz/\"/>\n",
       "    <title>\n",
       "      State highway traffic volumes 1975–2020  | Waka Kotahi NZ Transport Agency\n",
       "    </title>\n",
       "    <meta content=\"SilverStripe - https://www.silverstripe.org\" name=\"generator\"/>\n",
       "    <meta content=\"text/html; charset=utf-8\" http-equiv=\"Content-Type\"/>\n",
       "    <meta content=\"The information of state highway traffic volumes comes from the Transport Agency&#39;s state highway traffic data collection system. This system is used to provide network usage statistics for approximately 1500 monitoring sites.\" name=\"description\"/>\n",
       "    <meta content=\"WQ2hnRdEZZ02Pc9GgQpyaOj48GKTRlgvnQ5JFKkVv9Q\" name=\"google-site-verification\"/>\n",
       "    <meta content=\"width=device-width, initial-scale=1\" name=\"viewport\"/>\n",
       "    <link href=\"/_resources/themes/default/ico/favicon.ico?v=1354d86460fb31e713f1c79ee22f66d2&amp;m=1665045220\" rel=\"shortcut icon\"/>\n",
       "    <link href=\"//fonts.googleapis.com/css?family=Source+Sans+Pro:300,400,600,300italic,400italic,600italic\" rel=\"stylesheet\" type=\"text/css\"/>\n",
       "    <script type=\"text/javascript\">\n",
       "    window.__promoData = {\"slideData\":[],\"showOverlay\":0}\n",
       "    </script>\n",
       "    <script type=\"text/javascript\">\n",
       "\t\t/* grunticon Stylesheet Loader | https://github.com/filamentgroup/grunticon | (c) 2012 Scott Jehl, Filament Group, Inc. | MIT license. */\n",
       "\t\twindow.grunticon=function(e){if(e&&3===e.length){var t=window,n=!(!t.document.createElementNS||!t.document.createElementNS(\"http://www.w3.org/2000/svg\",\"svg\").createSVGRect||!document.implementation.hasFeature(\"http://www.w3.org/TR/SVG11/feature#Image\",\"1.1\")||window.opera&&-1===navigator.userAgent.indexOf(\"Chrome\")),o=function(o){var r=t.document.createElement(\"link\"),a=t.document.getElementsByTagName(\"script\")[0];r.rel=\"stylesheet\",r.href=e[o&&n?0:o?1:2],a.parentNode.insertBefore(r,a)},r=new t.Image;r.onerror=function(){o(!1)},r.onload=function(){o(1===r.width&&1===r.height)},r.src=\"data:image/gif;base64,R0lGODlhAQABAIAAAAAAAP///ywAAAAAAQABAAACAUwAOw==\"}};\n",
       "...\n"
      ]
     },
     "execution_count": 12,
     "metadata": {},
     "output_type": "execute_result"
    }
   ],
   "source": [
    "respTxt = parsehtml(String(resp.body))"
   ]
  },
  {
   "cell_type": "code",
   "execution_count": 43,
   "id": "3de1bfab",
   "metadata": {},
   "outputs": [
    {
     "name": "stdout",
     "output_type": "stream",
     "text": [
      "https://www.nzta.govt.nz/assets/resources/state-highway-traffic-volumes/docs/SHTV-2016-2020-all-regions.xlsx\n",
      "https://www.nzta.govt.nz/assets/resources/state-highway-traffic-volumes/docs/SHTV-2014-2018.pdf\n",
      "https://www.nzta.govt.nz/assets/resources/state-highway-traffic-volumes/docs/SHTV-2013-2017.pdf\n",
      "https://www.nzta.govt.nz/assets/resources/state-highway-traffic-volumes/docs/SHTV-2012-2016.pdf\n",
      "https://www.nzta.govt.nz/assets/resources/state-highway-traffic-volumes/docs/SHTV-2011-2015.pdf\n",
      "https://www.nzta.govt.nz/assets/resources/state-highway-traffic-volumes/docs/SHTV-2010-2014.pdf\n",
      "https://www.nzta.govt.nz/assets/resources/state-highway-traffic-volumes/docs/SHTV-2009-2013.pdf\n",
      "https://www.nzta.govt.nz/assets/resources/state-highway-traffic-volumes/docs/SHTV-2008-2012.pdf\n",
      "https://www.nzta.govt.nz/assets/resources/state-highway-traffic-volumes/docs/SHTV-2007-2011.pdf\n",
      "https://www.nzta.govt.nz/assets/resources/state-highway-traffic-volumes/docs/SHTV-2006-2010.pdf\n",
      "https://www.nzta.govt.nz/assets/resources/state-highway-traffic-volumes/docs/SHTV-2005-2009.pdf\n",
      "https://www.nzta.govt.nz/assets/resources/state-highway-traffic-volumes/docs/SHTV-2005-2009.pdf\n",
      "https://www.nzta.govt.nz/assets/resources/state-highway-traffic-volumes/docs/SHTV-2004-2008.pdf\n",
      "https://www.nzta.govt.nz/assets/resources/state-highway-traffic-volumes/docs/SHTV-2003-2007.pdf\n",
      "https://www.nzta.govt.nz/assets/resources/state-highway-traffic-volumes/docs/SHTV-2002-2006.pdf\n",
      "https://www.nzta.govt.nz/assets/resources/state-highway-traffic-volumes/docs/SHTV-2001-2005.pdf\n",
      "https://www.nzta.govt.nz/assets/resources/state-highway-traffic-volumes/docs/SHTV-2000-2004.pdf\n",
      "https://www.nzta.govt.nz/assets/resources/state-highway-traffic-volumes/docs/SHTV-2003.pdf\n",
      "https://www.nzta.govt.nz/assets/resources/state-highway-traffic-volumes/docs/SHTV-2002.pdf\n",
      "https://www.nzta.govt.nz/assets/resources/state-highway-traffic-volumes/docs/SHTV-2001.pdf\n",
      "https://www.nzta.govt.nz/assets/resources/state-highway-traffic-volumes/docs/SHTV-2000.pdf\n",
      "https://www.nzta.govt.nz/assets/resources/state-highway-traffic-volumes/docs/SHTV-1999.pdf\n",
      "https://www.nzta.govt.nz/assets/resources/state-highway-traffic-volumes/docs/SHTV-1998.pdf\n",
      "https://www.nzta.govt.nz/assets/resources/state-highway-traffic-volumes/docs/SHTV-1997.pdf\n",
      "https://www.nzta.govt.nz/assets/resources/state-highway-traffic-volumes/docs/SHTV-1995.pdf\n",
      "https://www.nzta.govt.nz/assets/resources/state-highway-traffic-volumes/docs/SHTV-1995.pdf\n",
      "https://www.nzta.govt.nz/assets/resources/state-highway-traffic-volumes/docs/SHTV-1994.pdf\n",
      "https://www.nzta.govt.nz/assets/resources/state-highway-traffic-volumes/docs/SHTV-1993.pdf\n",
      "https://www.nzta.govt.nz/assets/resources/state-highway-traffic-volumes/docs/SHTV-1992.pdf\n",
      "https://www.nzta.govt.nz/assets/resources/state-highway-traffic-volumes/docs/SHTV-1991.pdf\n",
      "https://www.nzta.govt.nz/assets/resources/state-highway-traffic-volumes/docs/SHTV-1990.pdf\n",
      "https://www.nzta.govt.nz/assets/resources/state-highway-traffic-volumes/docs/SHTV-1989.pdf\n",
      "https://www.nzta.govt.nz/assets/resources/state-highway-traffic-volumes/docs/SHTV-1988.pdf\n",
      "https://www.nzta.govt.nz/assets/resources/state-highway-traffic-volumes/docs/SHTV-1986.pdf\n",
      "https://www.nzta.govt.nz/assets/resources/state-highway-traffic-volumes/docs/SHTV-1975-1984.pdf\n"
     ]
    }
   ],
   "source": [
    "links = collect(eachmatch(Selector(\"div.typography > ol:nth-child(3) > li > a:nth-child(1)\"), respTxt.root))\n",
    "base = \"https://www.nzta.govt.nz\"\n",
    "#https://www.nzta.govt.nz/assets/resources/state-highway-traffic-volumes/docs/SHTV-2014-2018.pdf\n",
    "for q in links\n",
    "    href = q.attributes[\"href\"]\n",
    "    println(\"$base$href\")\n",
    "end"
   ]
  },
  {
   "cell_type": "code",
   "execution_count": 44,
   "id": "192f7343",
   "metadata": {},
   "outputs": [
    {
     "data": {
      "text/plain": [
       "\"https://www.nzta.govt.nz/assets/resources/state-highway-traffic-volumes/docs/SHTV-1999.pdf\""
      ]
     },
     "execution_count": 44,
     "metadata": {},
     "output_type": "execute_result"
    }
   ],
   "source": [
    "url1 = \"https://www.nzta.govt.nz\" * links[17].attributes[\"href\"]\n",
    "\n",
    "url1"
   ]
  },
  {
   "cell_type": "code",
   "execution_count": 41,
   "id": "a2712364",
   "metadata": {},
   "outputs": [
    {
     "data": {
      "text/plain": [
       "\"abc.pdf\""
      ]
     },
     "execution_count": 41,
     "metadata": {},
     "output_type": "execute_result"
    }
   ],
   "source": [
    "output = download(url1, \"abc.pdf\")"
   ]
  },
  {
   "cell_type": "code",
   "execution_count": 51,
   "id": "8f2619d3",
   "metadata": {},
   "outputs": [
    {
     "data": {
      "text/plain": [
       "download_file (generic function with 1 method)"
      ]
     },
     "execution_count": 51,
     "metadata": {},
     "output_type": "execute_result"
    }
   ],
   "source": [
    "workding_dir = @__DIR__\n",
    "\n",
    "function download_file(url, filename)\n",
    "    url1 = \"https://www.nzta.govt.nz\" * url\n",
    "    path = workding_dir * \"/data/transportRaw/\" * filename\n",
    "    output = download(url1, path)\n",
    "end"
   ]
  },
  {
   "cell_type": "markdown",
   "id": "49aa57d7",
   "metadata": {},
   "source": [
    "### Downloading combined files first"
   ]
  },
  {
   "cell_type": "code",
   "execution_count": 58,
   "id": "8024d1a1",
   "metadata": {},
   "outputs": [
    {
     "data": {
      "text/plain": [
       "\"G:\\\\My Drive\\\\2022\\\\DATA422-S2\\\\assigment group project\\\\testLab/data/pdf2000-2004.pdf\""
      ]
     },
     "execution_count": 58,
     "metadata": {},
     "output_type": "execute_result"
    }
   ],
   "source": [
    "download_file(links[1].attributes[\"href\"], \"pdf2016-2020.xlsx\")\n",
    "download_file(links[2].attributes[\"href\"], \"pdf2014-2018.pdf\")\n",
    "download_file(links[6].attributes[\"href\"], \"pdf2010-2014.pdf\")\n",
    "download_file(links[11].attributes[\"href\"], \"pdf2005-2009.pdf\")\n",
    "download_file(links[17].attributes[\"href\"], \"pdf2000-2004.pdf\")"
   ]
  },
  {
   "cell_type": "markdown",
   "id": "8ae3e0ae",
   "metadata": {},
   "source": [
    "### Downloading single year files"
   ]
  },
  {
   "cell_type": "code",
   "execution_count": 57,
   "id": "0629540e",
   "metadata": {},
   "outputs": [],
   "source": [
    "year = 1999\n",
    "for i in 22:33 \n",
    "    download_file(links[i].attributes[\"href\"], \"pdf\" * string(year) * \".pdf\")\n",
    "    year =  year - 1\n",
    "end"
   ]
  },
  {
   "cell_type": "markdown",
   "id": "5f68c948",
   "metadata": {},
   "source": [
    "### Scraping data tables from downloaded pdf files"
   ]
  },
  {
   "cell_type": "code",
   "execution_count": null,
   "id": "2f83b697",
   "metadata": {},
   "outputs": [],
   "source": []
  },
  {
   "cell_type": "code",
   "execution_count": null,
   "id": "e41ce41c",
   "metadata": {},
   "outputs": [],
   "source": []
  },
  {
   "cell_type": "code",
   "execution_count": null,
   "id": "6055ed8b",
   "metadata": {},
   "outputs": [],
   "source": []
  },
  {
   "cell_type": "code",
   "execution_count": null,
   "id": "2ae151e8",
   "metadata": {},
   "outputs": [],
   "source": []
  },
  {
   "cell_type": "code",
   "execution_count": null,
   "id": "cfe43a34",
   "metadata": {},
   "outputs": [],
   "source": []
  },
  {
   "cell_type": "code",
   "execution_count": null,
   "id": "16c42120",
   "metadata": {},
   "outputs": [],
   "source": []
  }
 ],
 "metadata": {
  "kernelspec": {
   "display_name": "Julia 1.7.3",
   "language": "julia",
   "name": "julia-1.7"
  },
  "language_info": {
   "file_extension": ".jl",
   "mimetype": "application/julia",
   "name": "julia",
   "version": "1.7.3"
  }
 },
 "nbformat": 4,
 "nbformat_minor": 5
}
