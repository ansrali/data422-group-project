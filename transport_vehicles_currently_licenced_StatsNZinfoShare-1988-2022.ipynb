{
 "cells": [
  {
   "cell_type": "markdown",
   "id": "b57520ac",
   "metadata": {},
   "source": [
    "# Scraping the International visitor arrival data from Stats NZ website\n",
    "\n",
    "This page is dynamically generated, due to which __rvest::read_html__ does not load the page completely. To work around we use __RSelenium__ library. Now, in this case scraping process is divided into two steps:\n",
    " - Automate/simulate the opening the page in browser using tools provided by __RSelenium__\n",
    " - Scrape the required contents from the dynamically loaded page as usual using __rvest__ tools"
   ]
  },
  {
   "cell_type": "code",
   "execution_count": 1,
   "id": "c47920c9",
   "metadata": {},
   "outputs": [
    {
     "name": "stderr",
     "output_type": "stream",
     "text": [
      "── \u001b[1mAttaching packages\u001b[22m ─────────────────────────────────────────────────────────────────────────────── tidyverse 1.3.2 ──\n",
      "\u001b[32m✔\u001b[39m \u001b[34mggplot2\u001b[39m 3.3.6     \u001b[32m✔\u001b[39m \u001b[34mpurrr  \u001b[39m 0.3.4\n",
      "\u001b[32m✔\u001b[39m \u001b[34mtibble \u001b[39m 3.1.8     \u001b[32m✔\u001b[39m \u001b[34mdplyr  \u001b[39m 1.0.9\n",
      "\u001b[32m✔\u001b[39m \u001b[34mtidyr  \u001b[39m 1.2.0     \u001b[32m✔\u001b[39m \u001b[34mstringr\u001b[39m 1.4.0\n",
      "\u001b[32m✔\u001b[39m \u001b[34mreadr  \u001b[39m 2.1.2     \u001b[32m✔\u001b[39m \u001b[34mforcats\u001b[39m 0.5.1\n",
      "── \u001b[1mConflicts\u001b[22m ────────────────────────────────────────────────────────────────────────────────── tidyverse_conflicts() ──\n",
      "\u001b[31m✖\u001b[39m \u001b[34mdplyr\u001b[39m::\u001b[32mfilter()\u001b[39m masks \u001b[34mstats\u001b[39m::filter()\n",
      "\u001b[31m✖\u001b[39m \u001b[34mdplyr\u001b[39m::\u001b[32mlag()\u001b[39m    masks \u001b[34mstats\u001b[39m::lag()\n",
      "\n",
      "Attaching package: 'rvest'\n",
      "\n",
      "\n",
      "The following object is masked from 'package:readr':\n",
      "\n",
      "    guess_encoding\n",
      "\n",
      "\n"
     ]
    }
   ],
   "source": [
    "library(tidyverse)\n",
    "library(dplyr)\n",
    "library(rvest)"
   ]
  },
  {
   "cell_type": "code",
   "execution_count": 2,
   "id": "ab7e015e",
   "metadata": {},
   "outputs": [],
   "source": [
    "library(RSelenium)"
   ]
  },
  {
   "cell_type": "code",
   "execution_count": 3,
   "id": "2999a532",
   "metadata": {
    "scrolled": true
   },
   "outputs": [
    {
     "name": "stderr",
     "output_type": "stream",
     "text": [
      "\n",
      "Attaching package: 'janitor'\n",
      "\n",
      "\n",
      "The following objects are masked from 'package:stats':\n",
      "\n",
      "    chisq.test, fisher.test\n",
      "\n",
      "\n"
     ]
    }
   ],
   "source": [
    "#install.packages(\"janitor\")\n",
    "library(janitor)"
   ]
  },
  {
   "cell_type": "markdown",
   "id": "b302503d",
   "metadata": {},
   "source": [
    "## Step 1: Browser automation\n",
    "Automation and loading the dynamic page"
   ]
  },
  {
   "cell_type": "markdown",
   "id": "0bbf01a0",
   "metadata": {},
   "source": [
    "#### Starting Selenium server and browser "
   ]
  },
  {
   "cell_type": "code",
   "execution_count": 17,
   "id": "95438ae9",
   "metadata": {},
   "outputs": [],
   "source": [
    "rD <- rsDriver(verbose = FALSE, port = 4444L,  browser = \"chrome\", chromever = \"106.0.5249.21\")"
   ]
  },
  {
   "cell_type": "markdown",
   "id": "e4992c66",
   "metadata": {},
   "source": [
    "#### Navigating to the Statistics New Zealand's tourism page"
   ]
  },
  {
   "cell_type": "code",
   "execution_count": 18,
   "id": "e154826d",
   "metadata": {},
   "outputs": [],
   "source": [
    "remDr <- rD$client\n",
    "remDr$navigate(\"https://infoshare.stats.govt.nz\")"
   ]
  },
  {
   "cell_type": "markdown",
   "id": "551fe157",
   "metadata": {},
   "source": [
    "#### Getting contents of the \\<table>\n",
    "Navigating to the target node in the tree by expanding it. Each node is dynamically generated, therefore, can not be directly accessed."
   ]
  },
  {
   "cell_type": "code",
   "execution_count": 19,
   "id": "c22b0386",
   "metadata": {},
   "outputs": [],
   "source": [
    "# Click the Industry sector node\n",
    "elem <- remDr$findElement(using=\"css selector\", value=\"a#ctl00_MainContent_tvBrowseNodest5\")\n",
    "elem$clickElement()"
   ]
  },
  {
   "cell_type": "code",
   "execution_count": 20,
   "id": "a90c2ec7",
   "metadata": {},
   "outputs": [],
   "source": [
    "# click the transport node\n",
    "elem <- remDr$findElement(using=\"css selector\", value=\"a#ctl00_MainContent_tvBrowseNodest25\")\n",
    "elem$clickElement()"
   ]
  },
  {
   "cell_type": "code",
   "execution_count": 21,
   "id": "6992a76a",
   "metadata": {},
   "outputs": [],
   "source": [
    "# click the 'motor vehicles currently licensed by type (qrtly-mar/jun/sep/dec)' node \n",
    "elem <- remDr$findElement(using=\"css selector\", value=\"a#ctl00_MainContent_tvBrowseNodest30\")\n",
    "elem$clickElement()"
   ]
  },
  {
   "cell_type": "code",
   "execution_count": 24,
   "id": "2cc8e7e2",
   "metadata": {},
   "outputs": [],
   "source": [
    "# click the node 'Total all vehicles' for columns\n",
    "elem <- remDr$findElement(using = \"xpath\", \"//select[@id = 'ctl00_MainContent_ctl02_lbVariableOptions']/option[24]\")\n",
    "elem$clickElement()"
   ]
  },
  {
   "cell_type": "code",
   "execution_count": 26,
   "id": "d6ae498b",
   "metadata": {},
   "outputs": [],
   "source": [
    "# click the node 'total both periods' for period of time\n",
    "elem <- remDr$findElement(using = \"xpath\", \"//select[@id = 'ctl00_MainContent_ctl04_lbVariableOptions']/option[3]\")\n",
    "elem$clickElement()"
   ]
  },
  {
   "cell_type": "code",
   "execution_count": 27,
   "id": "b88def2e",
   "metadata": {},
   "outputs": [],
   "source": [
    "# data from year 1988 onwards\n",
    "elem <- remDr$findElement(using=\"css selector\", value=\"span#ctl00_MainContent_ctl07_lblSelectAll\")\n",
    "elem$clickElement()"
   ]
  },
  {
   "cell_type": "code",
   "execution_count": 28,
   "id": "05d6afef",
   "metadata": {},
   "outputs": [],
   "source": [
    "# click the 'Go' button\n",
    "elem <- remDr$findElement(using=\"css selector\", value=\"input#ctl00_MainContent_btnGo\")\n",
    "elem$clickElement()"
   ]
  },
  {
   "cell_type": "markdown",
   "id": "561151a3",
   "metadata": {},
   "source": [
    "### Saving the Table source into an element for later use."
   ]
  },
  {
   "cell_type": "code",
   "execution_count": 29,
   "id": "de4d52b6",
   "metadata": {},
   "outputs": [],
   "source": [
    "# saving the resultent table into a variable\n",
    "elem <- remDr$findElement(using=\"css selector\", value=\"table.pxtableParent\")\n",
    "web_page_src <- remDr$getPageSource()[[1]]"
   ]
  },
  {
   "cell_type": "markdown",
   "id": "0cd5a4fe",
   "metadata": {},
   "source": [
    "### Stoping the driver and closing the browser"
   ]
  },
  {
   "cell_type": "code",
   "execution_count": 62,
   "id": "427ecb61",
   "metadata": {},
   "outputs": [
    {
     "data": {
      "text/html": [
       "TRUE"
      ],
      "text/latex": [
       "TRUE"
      ],
      "text/markdown": [
       "TRUE"
      ],
      "text/plain": [
       "[1] TRUE"
      ]
     },
     "metadata": {},
     "output_type": "display_data"
    }
   ],
   "source": [
    "# release the selenium browser driver\n",
    "rD[[\"server\"]]$stop()"
   ]
  },
  {
   "cell_type": "markdown",
   "id": "4f9f5909",
   "metadata": {},
   "source": [
    "## Step 2: Scraping the page"
   ]
  },
  {
   "cell_type": "code",
   "execution_count": 30,
   "id": "5ccc8496",
   "metadata": {},
   "outputs": [
    {
     "data": {
      "text/plain": [
       "{html_node}\n",
       "<table class=\"pxtable\" cellpadding=\"0\" cellspacing=\"0\" border=\"0\">\n",
       "[1] <tbody>\\n<tr>\\n<td class=\"headfirst\" colspan=\"1\" rowspan=\"2\"> </td>\\n     ..."
      ]
     },
     "metadata": {},
     "output_type": "display_data"
    }
   ],
   "source": [
    "web_page <- web_page_src %>% \n",
    "                read_html()\n",
    "\n",
    "statsnz_data_html <- web_page %>%\n",
    "                      html_nodes(\"table.pxtable\")\n",
    "statsnz_data_html[[2]]"
   ]
  },
  {
   "cell_type": "markdown",
   "id": "e697cfb9",
   "metadata": {},
   "source": [
    "#### Extracting table and saving it in tibble"
   ]
  },
  {
   "cell_type": "code",
   "execution_count": 42,
   "id": "188fbdad",
   "metadata": {},
   "outputs": [],
   "source": [
    "table_node_table <- statsnz_data_html[[2]] %>%\n",
    "                        html_table() %>%\n",
    "                        row_to_names(1)     # function from library janitor to make the first row as header.\n",
    "table_node_table = table_node_table[-1,]"
   ]
  },
  {
   "cell_type": "code",
   "execution_count": 43,
   "id": "6765f358",
   "metadata": {},
   "outputs": [
    {
     "data": {
      "text/html": [
       "<table class=\"dataframe\">\n",
       "<caption>A tibble: 6 × 2</caption>\n",
       "<thead>\n",
       "\t<tr><th scope=col></th><th scope=col>Total All Vehicles</th></tr>\n",
       "\t<tr><th scope=col>&lt;chr&gt;</th><th scope=col>&lt;chr&gt;</th></tr>\n",
       "</thead>\n",
       "<tbody>\n",
       "\t<tr><td>1988Q1</td><td>2,179,005</td></tr>\n",
       "\t<tr><td>1988Q2</td><td>2,147,112</td></tr>\n",
       "\t<tr><td>1988Q3</td><td>2,166,716</td></tr>\n",
       "\t<tr><td>1988Q4</td><td>2,173,005</td></tr>\n",
       "\t<tr><td>1989Q1</td><td>2,217,259</td></tr>\n",
       "\t<tr><td>1989Q2</td><td>2,188,108</td></tr>\n",
       "</tbody>\n",
       "</table>\n"
      ],
      "text/latex": [
       "A tibble: 6 × 2\n",
       "\\begin{tabular}{ll}\n",
       "  & Total All Vehicles\\\\\n",
       " <chr> & <chr>\\\\\n",
       "\\hline\n",
       "\t 1988Q1 & 2,179,005\\\\\n",
       "\t 1988Q2 & 2,147,112\\\\\n",
       "\t 1988Q3 & 2,166,716\\\\\n",
       "\t 1988Q4 & 2,173,005\\\\\n",
       "\t 1989Q1 & 2,217,259\\\\\n",
       "\t 1989Q2 & 2,188,108\\\\\n",
       "\\end{tabular}\n"
      ],
      "text/markdown": [
       "\n",
       "A tibble: 6 × 2\n",
       "\n",
       "| <!----> &lt;chr&gt; | Total All Vehicles &lt;chr&gt; |\n",
       "|---|---|\n",
       "| 1988Q1 | 2,179,005 |\n",
       "| 1988Q2 | 2,147,112 |\n",
       "| 1988Q3 | 2,166,716 |\n",
       "| 1988Q4 | 2,173,005 |\n",
       "| 1989Q1 | 2,217,259 |\n",
       "| 1989Q2 | 2,188,108 |\n",
       "\n"
      ],
      "text/plain": [
       "         Total All Vehicles\n",
       "1 1988Q1 2,179,005         \n",
       "2 1988Q2 2,147,112         \n",
       "3 1988Q3 2,166,716         \n",
       "4 1988Q4 2,173,005         \n",
       "5 1989Q1 2,217,259         \n",
       "6 1989Q2 2,188,108         "
      ]
     },
     "metadata": {},
     "output_type": "display_data"
    },
    {
     "data": {
      "text/html": [
       "<table class=\"dataframe\">\n",
       "<caption>A tibble: 6 × 2</caption>\n",
       "<thead>\n",
       "\t<tr><th scope=col></th><th scope=col>Total All Vehicles</th></tr>\n",
       "\t<tr><th scope=col>&lt;chr&gt;</th><th scope=col>&lt;chr&gt;</th></tr>\n",
       "</thead>\n",
       "<tbody>\n",
       "\t<tr><td>2021Q2</td><td>4,409,033</td></tr>\n",
       "\t<tr><td>2021Q3</td><td>4,383,197</td></tr>\n",
       "\t<tr><td>2021Q4</td><td>4,497,463</td></tr>\n",
       "\t<tr><td>2022Q1</td><td>4,502,027</td></tr>\n",
       "\t<tr><td>2022Q2</td><td>4,452,608</td></tr>\n",
       "\t<tr><td>2022Q3</td><td>4,442,030</td></tr>\n",
       "</tbody>\n",
       "</table>\n"
      ],
      "text/latex": [
       "A tibble: 6 × 2\n",
       "\\begin{tabular}{ll}\n",
       "  & Total All Vehicles\\\\\n",
       " <chr> & <chr>\\\\\n",
       "\\hline\n",
       "\t 2021Q2 & 4,409,033\\\\\n",
       "\t 2021Q3 & 4,383,197\\\\\n",
       "\t 2021Q4 & 4,497,463\\\\\n",
       "\t 2022Q1 & 4,502,027\\\\\n",
       "\t 2022Q2 & 4,452,608\\\\\n",
       "\t 2022Q3 & 4,442,030\\\\\n",
       "\\end{tabular}\n"
      ],
      "text/markdown": [
       "\n",
       "A tibble: 6 × 2\n",
       "\n",
       "| <!----> &lt;chr&gt; | Total All Vehicles &lt;chr&gt; |\n",
       "|---|---|\n",
       "| 2021Q2 | 4,409,033 |\n",
       "| 2021Q3 | 4,383,197 |\n",
       "| 2021Q4 | 4,497,463 |\n",
       "| 2022Q1 | 4,502,027 |\n",
       "| 2022Q2 | 4,452,608 |\n",
       "| 2022Q3 | 4,442,030 |\n",
       "\n"
      ],
      "text/plain": [
       "         Total All Vehicles\n",
       "1 2021Q2 4,409,033         \n",
       "2 2021Q3 4,383,197         \n",
       "3 2021Q4 4,497,463         \n",
       "4 2022Q1 4,502,027         \n",
       "5 2022Q2 4,452,608         \n",
       "6 2022Q3 4,442,030         "
      ]
     },
     "metadata": {},
     "output_type": "display_data"
    }
   ],
   "source": [
    "head(table_node_table)\n",
    "tail(table_node_table)"
   ]
  },
  {
   "cell_type": "markdown",
   "id": "25001e80",
   "metadata": {},
   "source": [
    "#### Saving dataframe into csv file"
   ]
  },
  {
   "cell_type": "code",
   "execution_count": 18,
   "id": "6ccd4388",
   "metadata": {},
   "outputs": [],
   "source": [
    "#table_node_table %>%\n",
    "#    write.csv('data/tourism_international_visitors_arriavals_1921Q1-2022Q2.csv')"
   ]
  },
  {
   "cell_type": "markdown",
   "id": "e2a320f4",
   "metadata": {},
   "source": [
    "## Step 3: Wrangling the data and tidying it up as per requirement"
   ]
  },
  {
   "cell_type": "code",
   "execution_count": 54,
   "id": "996f5219",
   "metadata": {},
   "outputs": [],
   "source": [
    "names(table_node_table)[1] <- 'date'\n",
    "names(table_node_table)[2] <- 'total_all_vehicles'"
   ]
  },
  {
   "cell_type": "markdown",
   "id": "a731fd22",
   "metadata": {},
   "source": [
    "### Convert the counts column into numeric format "
   ]
  },
  {
   "cell_type": "code",
   "execution_count": 55,
   "id": "2de04ce9",
   "metadata": {},
   "outputs": [],
   "source": [
    "table_node_table_df <- table_node_table"
   ]
  },
  {
   "cell_type": "code",
   "execution_count": 56,
   "id": "cce0d79c",
   "metadata": {},
   "outputs": [
    {
     "data": {
      "text/html": [
       "<table class=\"dataframe\">\n",
       "<caption>A tibble: 6 × 2</caption>\n",
       "<thead>\n",
       "\t<tr><th scope=col>date</th><th scope=col>total_all_vehicles</th></tr>\n",
       "\t<tr><th scope=col>&lt;chr&gt;</th><th scope=col>&lt;dbl&gt;</th></tr>\n",
       "</thead>\n",
       "<tbody>\n",
       "\t<tr><td>1988Q1</td><td>2179005</td></tr>\n",
       "\t<tr><td>1988Q2</td><td>2147112</td></tr>\n",
       "\t<tr><td>1988Q3</td><td>2166716</td></tr>\n",
       "\t<tr><td>1988Q4</td><td>2173005</td></tr>\n",
       "\t<tr><td>1989Q1</td><td>2217259</td></tr>\n",
       "\t<tr><td>1989Q2</td><td>2188108</td></tr>\n",
       "</tbody>\n",
       "</table>\n"
      ],
      "text/latex": [
       "A tibble: 6 × 2\n",
       "\\begin{tabular}{ll}\n",
       " date & total\\_all\\_vehicles\\\\\n",
       " <chr> & <dbl>\\\\\n",
       "\\hline\n",
       "\t 1988Q1 & 2179005\\\\\n",
       "\t 1988Q2 & 2147112\\\\\n",
       "\t 1988Q3 & 2166716\\\\\n",
       "\t 1988Q4 & 2173005\\\\\n",
       "\t 1989Q1 & 2217259\\\\\n",
       "\t 1989Q2 & 2188108\\\\\n",
       "\\end{tabular}\n"
      ],
      "text/markdown": [
       "\n",
       "A tibble: 6 × 2\n",
       "\n",
       "| date &lt;chr&gt; | total_all_vehicles &lt;dbl&gt; |\n",
       "|---|---|\n",
       "| 1988Q1 | 2179005 |\n",
       "| 1988Q2 | 2147112 |\n",
       "| 1988Q3 | 2166716 |\n",
       "| 1988Q4 | 2173005 |\n",
       "| 1989Q1 | 2217259 |\n",
       "| 1989Q2 | 2188108 |\n",
       "\n"
      ],
      "text/plain": [
       "  date   total_all_vehicles\n",
       "1 1988Q1 2179005           \n",
       "2 1988Q2 2147112           \n",
       "3 1988Q3 2166716           \n",
       "4 1988Q4 2173005           \n",
       "5 1989Q1 2217259           \n",
       "6 1989Q2 2188108           "
      ]
     },
     "metadata": {},
     "output_type": "display_data"
    }
   ],
   "source": [
    "# Converting type of 'Actual Counts' column to numeric\n",
    "table_node_table_df$total_all_vehicles <- table_node_table_df$total_all_vehicles %>%\n",
    "    gsub(\",\", \"\", .) %>%\n",
    "    as.numeric()\n",
    "\n",
    "table_node_table_df %>% head()"
   ]
  },
  {
   "cell_type": "markdown",
   "id": "8d14983e",
   "metadata": {},
   "source": [
    "### Changing the format of the data in Time column from 2022Q2 to 2022-2"
   ]
  },
  {
   "cell_type": "code",
   "execution_count": 57,
   "id": "4077b227",
   "metadata": {},
   "outputs": [],
   "source": [
    "df <- table_node_table_df %>% \n",
    "    separate(date, c(\"Year\", \"Quarter\"),sep = \"Q\")"
   ]
  },
  {
   "cell_type": "code",
   "execution_count": 58,
   "id": "c7cd55fe",
   "metadata": {},
   "outputs": [
    {
     "data": {
      "text/html": [
       "<table class=\"dataframe\">\n",
       "<caption>A tibble: 6 × 3</caption>\n",
       "<thead>\n",
       "\t<tr><th scope=col>Year</th><th scope=col>Quarter</th><th scope=col>total_all_vehicles</th></tr>\n",
       "\t<tr><th scope=col>&lt;chr&gt;</th><th scope=col>&lt;chr&gt;</th><th scope=col>&lt;dbl&gt;</th></tr>\n",
       "</thead>\n",
       "<tbody>\n",
       "\t<tr><td>1988</td><td>03</td><td>2179005</td></tr>\n",
       "\t<tr><td>1988</td><td>06</td><td>2147112</td></tr>\n",
       "\t<tr><td>1988</td><td>09</td><td>2166716</td></tr>\n",
       "\t<tr><td>1988</td><td>12</td><td>2173005</td></tr>\n",
       "\t<tr><td>1989</td><td>03</td><td>2217259</td></tr>\n",
       "\t<tr><td>1989</td><td>06</td><td>2188108</td></tr>\n",
       "</tbody>\n",
       "</table>\n"
      ],
      "text/latex": [
       "A tibble: 6 × 3\n",
       "\\begin{tabular}{lll}\n",
       " Year & Quarter & total\\_all\\_vehicles\\\\\n",
       " <chr> & <chr> & <dbl>\\\\\n",
       "\\hline\n",
       "\t 1988 & 03 & 2179005\\\\\n",
       "\t 1988 & 06 & 2147112\\\\\n",
       "\t 1988 & 09 & 2166716\\\\\n",
       "\t 1988 & 12 & 2173005\\\\\n",
       "\t 1989 & 03 & 2217259\\\\\n",
       "\t 1989 & 06 & 2188108\\\\\n",
       "\\end{tabular}\n"
      ],
      "text/markdown": [
       "\n",
       "A tibble: 6 × 3\n",
       "\n",
       "| Year &lt;chr&gt; | Quarter &lt;chr&gt; | total_all_vehicles &lt;dbl&gt; |\n",
       "|---|---|---|\n",
       "| 1988 | 03 | 2179005 |\n",
       "| 1988 | 06 | 2147112 |\n",
       "| 1988 | 09 | 2166716 |\n",
       "| 1988 | 12 | 2173005 |\n",
       "| 1989 | 03 | 2217259 |\n",
       "| 1989 | 06 | 2188108 |\n",
       "\n"
      ],
      "text/plain": [
       "  Year Quarter total_all_vehicles\n",
       "1 1988 03      2179005           \n",
       "2 1988 06      2147112           \n",
       "3 1988 09      2166716           \n",
       "4 1988 12      2173005           \n",
       "5 1989 03      2217259           \n",
       "6 1989 06      2188108           "
      ]
     },
     "metadata": {},
     "output_type": "display_data"
    }
   ],
   "source": [
    "df$Quarter <- as.numeric(df$Quarter) * 3\n",
    "\n",
    "df$Quarter <- ifelse(df$Quarter < 10, paste0(\"0\", df$Quarter), df$Quarter)\n",
    "\n",
    "head(df)"
   ]
  },
  {
   "cell_type": "code",
   "execution_count": 59,
   "id": "08632ffd",
   "metadata": {},
   "outputs": [],
   "source": [
    "table_node_table_df$date <- paste0(df$Year, \"-\", df$Quarter)"
   ]
  },
  {
   "cell_type": "code",
   "execution_count": 60,
   "id": "272afb98",
   "metadata": {},
   "outputs": [
    {
     "data": {
      "text/html": [
       "<table class=\"dataframe\">\n",
       "<caption>A tibble: 6 × 2</caption>\n",
       "<thead>\n",
       "\t<tr><th scope=col>date</th><th scope=col>total_all_vehicles</th></tr>\n",
       "\t<tr><th scope=col>&lt;chr&gt;</th><th scope=col>&lt;dbl&gt;</th></tr>\n",
       "</thead>\n",
       "<tbody>\n",
       "\t<tr><td>1988-03</td><td>2179005</td></tr>\n",
       "\t<tr><td>1988-06</td><td>2147112</td></tr>\n",
       "\t<tr><td>1988-09</td><td>2166716</td></tr>\n",
       "\t<tr><td>1988-12</td><td>2173005</td></tr>\n",
       "\t<tr><td>1989-03</td><td>2217259</td></tr>\n",
       "\t<tr><td>1989-06</td><td>2188108</td></tr>\n",
       "</tbody>\n",
       "</table>\n"
      ],
      "text/latex": [
       "A tibble: 6 × 2\n",
       "\\begin{tabular}{ll}\n",
       " date & total\\_all\\_vehicles\\\\\n",
       " <chr> & <dbl>\\\\\n",
       "\\hline\n",
       "\t 1988-03 & 2179005\\\\\n",
       "\t 1988-06 & 2147112\\\\\n",
       "\t 1988-09 & 2166716\\\\\n",
       "\t 1988-12 & 2173005\\\\\n",
       "\t 1989-03 & 2217259\\\\\n",
       "\t 1989-06 & 2188108\\\\\n",
       "\\end{tabular}\n"
      ],
      "text/markdown": [
       "\n",
       "A tibble: 6 × 2\n",
       "\n",
       "| date &lt;chr&gt; | total_all_vehicles &lt;dbl&gt; |\n",
       "|---|---|\n",
       "| 1988-03 | 2179005 |\n",
       "| 1988-06 | 2147112 |\n",
       "| 1988-09 | 2166716 |\n",
       "| 1988-12 | 2173005 |\n",
       "| 1989-03 | 2217259 |\n",
       "| 1989-06 | 2188108 |\n",
       "\n"
      ],
      "text/plain": [
       "  date    total_all_vehicles\n",
       "1 1988-03 2179005           \n",
       "2 1988-06 2147112           \n",
       "3 1988-09 2166716           \n",
       "4 1988-12 2173005           \n",
       "5 1989-03 2217259           \n",
       "6 1989-06 2188108           "
      ]
     },
     "metadata": {},
     "output_type": "display_data"
    }
   ],
   "source": [
    "table_node_table_df %>%\n",
    "    head()"
   ]
  },
  {
   "cell_type": "markdown",
   "id": "556f5e02",
   "metadata": {},
   "source": [
    "### saving the dataframe into csv file"
   ]
  },
  {
   "cell_type": "code",
   "execution_count": 61,
   "id": "2934800d",
   "metadata": {},
   "outputs": [],
   "source": [
    "table_node_table_df %>%\n",
    "    write.csv('data/transport_final_clean_vehicle_licensed_1921-2022.csv')"
   ]
  },
  {
   "cell_type": "code",
   "execution_count": null,
   "id": "2b351c7f",
   "metadata": {},
   "outputs": [],
   "source": []
  },
  {
   "cell_type": "markdown",
   "id": "510eda97",
   "metadata": {},
   "source": [
    "#### End of file"
   ]
  }
 ],
 "metadata": {
  "kernelspec": {
   "display_name": "R",
   "language": "R",
   "name": "ir"
  },
  "language_info": {
   "codemirror_mode": "r",
   "file_extension": ".r",
   "mimetype": "text/x-r-source",
   "name": "R",
   "pygments_lexer": "r",
   "version": "4.2.1"
  }
 },
 "nbformat": 4,
 "nbformat_minor": 5
}
