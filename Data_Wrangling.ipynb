{
 "cells": [
  {
   "cell_type": "markdown",
   "metadata": {},
   "source": [
    "## Introduction\n",
    "All data are time-series data; the maximum granularity of time is quarterly, the smaller granularity is monthly, and occasionally there are several points in an individual month; we use the average value as the current month's data so that the minimum granularity can be considered as monthly.\n",
    "\n",
    "The data will be uniformly converted into quarterly time scales:\n",
    "\n",
    "- When data are transformed, quarterly data for non-rate of change will simply be treated as an arithmetic average of monthly data, such as the unemployment rate data.\n",
    "  $$unemployment\\_rate\\_Q1 = \\frac{unemployment\\_rate\\_Jan + unemployment\\_rate\\_Feb + unemployment\\_rate\\_Mar} {3}$$\n",
    "- When the data are converted, the quarterly data for the rate of change will simply be treated as the product of the months, as is the case with CPI data.\n",
    "  $$CPI\\_Q1 = ((1 + CPI\\_Jan) \\times (1 + CPI\\_Feb) \\times (1 + CPI\\_Mar)) - 1$$"
   ]
  },
  {
   "cell_type": "markdown",
   "metadata": {
    "vscode": {
     "languageId": "r"
    }
   },
   "source": [
    "## Data\n",
    "Each data contains different start time, we first find a common time start point of each data, this time point is **January 1999** is the start time point of OCR data, and the end of duration is **September, 2022**. This notebook will wrangling the following data:\n",
    "- HPI\n",
    "- CPI\n",
    "- OCR\n",
    "- Exchange rate\n",
    "- Unemployment rate"
   ]
  },
  {
   "cell_type": "code",
   "execution_count": 9,
   "metadata": {
    "vscode": {
     "languageId": "r"
    }
   },
   "outputs": [],
   "source": [
    "# Normalization for each time formats\n",
    "# install.packages(\"timeDate\")\n",
    "library(timeDate)\n",
    "library(tidyverse)\n",
    "library(visdat)\n",
    "library(here)\n",
    "library(readxl)\n",
    "\n",
    "# convert \"1999Q1\" to \"1999-03\"\n",
    "Yq2Ym <- function(date) {\n",
    "           dt = str_split(date, \"Q\")\n",
    "           y = dt[[1]][[1]]\n",
    "           q = strtoi(dt[[1]][[2]], 10)\n",
    "           m = q * 3\n",
    "           mm = str_pad(m, 2, side = \"left\", pad = 0)\n",
    "           ym = paste(y, mm, sep = \"-\")\n",
    "           ym\n",
    "       }\n",
    "\n",
    "# convert \"1999-3-29\" to \"1999-03\"\n",
    "Yqd2Ym <- function(date) {\n",
    "           dt = str_split(date, \"-\")\n",
    "           y = dt[[1]][[1]]\n",
    "           m = strtoi(dt[[1]][[2]], 10)\n",
    "           mm = str_pad(m, 2, side = \"left\", pad = 0)\n",
    "           ym = paste(y, mm, sep = \"-\")\n",
    "           ym\n",
    "       }\n",
    "\n",
    "# Convert \"1999Q1\" to the last day of quarter\n",
    "Yq2Date <- function(date) {\n",
    "           ym = Yq2Ym(date)\n",
    "           ymd = paste(ym, \"01\", sep = \"-\")\n",
    "           dt = as.Date(timeLastDayInMonth(ymd))\n",
    "           dt\n",
    "       }\n",
    "\n",
    "\n",
    "# Convert \"1999-03-29\" to the last day of month\n",
    "Yqd2Date <- function(date) {\n",
    "          ym = Yqd2Ym(date)\n",
    "          ymd = paste(ym, \"01\", sep = \"-\")\n",
    "          dt = as.Date(timeLastDayInMonth(ymd))\n",
    "          dt\n",
    "       }\n",
    "\n",
    "# convert \"1999-03\" to \"1999Q1\"\n",
    "Ym2Yq <- function(date) {\n",
    "           dt = str_split(date, \"-\")\n",
    "           y = dt[[1]][[1]]\n",
    "           m = strtoi(dt[[1]][[2]], 10)\n",
    "           q = (m - 1) %/% 3 + 1\n",
    "           yq = paste(y, q, sep = \"Q\")\n",
    "           yq\n",
    "       }"
   ]
  },
  {
   "cell_type": "code",
   "execution_count": 10,
   "metadata": {
    "vscode": {
     "languageId": "r"
    }
   },
   "outputs": [],
   "source": [
    "hpi <- read_csv(\"data/hpi.csv\", col_select = c(\"date\", \"HPI\"), show_col_types = FALSE)"
   ]
  },
  {
   "cell_type": "code",
   "execution_count": 11,
   "metadata": {
    "vscode": {
     "languageId": "r"
    }
   },
   "outputs": [
    {
     "data": {
      "text/html": [
       "<table class=\"dataframe\">\n",
       "<caption>A tibble: 10 × 2</caption>\n",
       "<thead>\n",
       "\t<tr><th scope=col>date.quarter</th><th scope=col>HPI</th></tr>\n",
       "\t<tr><th scope=col>&lt;chr&gt;</th><th scope=col>&lt;dbl&gt;</th></tr>\n",
       "</thead>\n",
       "<tbody>\n",
       "\t<tr><td>1999-03</td><td>699</td></tr>\n",
       "\t<tr><td>1999-06</td><td>703</td></tr>\n",
       "\t<tr><td>1999-09</td><td>704</td></tr>\n",
       "\t<tr><td>1999-12</td><td>704</td></tr>\n",
       "\t<tr><td>2000-03</td><td>703</td></tr>\n",
       "\t<tr><td>2000-06</td><td>696</td></tr>\n",
       "\t<tr><td>2000-09</td><td>696</td></tr>\n",
       "\t<tr><td>2000-12</td><td>696</td></tr>\n",
       "\t<tr><td>2001-03</td><td>700</td></tr>\n",
       "\t<tr><td>2001-06</td><td>698</td></tr>\n",
       "</tbody>\n",
       "</table>\n"
      ],
      "text/latex": [
       "A tibble: 10 × 2\n",
       "\\begin{tabular}{ll}\n",
       " date.quarter & HPI\\\\\n",
       " <chr> & <dbl>\\\\\n",
       "\\hline\n",
       "\t 1999-03 & 699\\\\\n",
       "\t 1999-06 & 703\\\\\n",
       "\t 1999-09 & 704\\\\\n",
       "\t 1999-12 & 704\\\\\n",
       "\t 2000-03 & 703\\\\\n",
       "\t 2000-06 & 696\\\\\n",
       "\t 2000-09 & 696\\\\\n",
       "\t 2000-12 & 696\\\\\n",
       "\t 2001-03 & 700\\\\\n",
       "\t 2001-06 & 698\\\\\n",
       "\\end{tabular}\n"
      ],
      "text/markdown": [
       "\n",
       "A tibble: 10 × 2\n",
       "\n",
       "| date.quarter &lt;chr&gt; | HPI &lt;dbl&gt; |\n",
       "|---|---|\n",
       "| 1999-03 | 699 |\n",
       "| 1999-06 | 703 |\n",
       "| 1999-09 | 704 |\n",
       "| 1999-12 | 704 |\n",
       "| 2000-03 | 703 |\n",
       "| 2000-06 | 696 |\n",
       "| 2000-09 | 696 |\n",
       "| 2000-12 | 696 |\n",
       "| 2001-03 | 700 |\n",
       "| 2001-06 | 698 |\n",
       "\n"
      ],
      "text/plain": [
       "   date.quarter HPI\n",
       "1  1999-03      699\n",
       "2  1999-06      703\n",
       "3  1999-09      704\n",
       "4  1999-12      704\n",
       "5  2000-03      703\n",
       "6  2000-06      696\n",
       "7  2000-09      696\n",
       "8  2000-12      696\n",
       "9  2001-03      700\n",
       "10 2001-06      698"
      ]
     },
     "metadata": {},
     "output_type": "display_data"
    }
   ],
   "source": [
    "q_hpi <- hpi %>%\n",
    "    mutate(date.quarter = map_chr(hpi$date, Yqd2Ym), date.datetime = map(hpi$date, Yqd2Date))%>%\n",
    "    filter(date.datetime > as.Date(\"1999-01-01\")) %>%\n",
    "    select(date.quarter, HPI)\n",
    "    \n",
    "q_hpi %>% head(10)"
   ]
  },
  {
   "cell_type": "code",
   "execution_count": 12,
   "metadata": {
    "vscode": {
     "languageId": "r"
    }
   },
   "outputs": [],
   "source": [
    "cpi <- read_csv(\"data/cpi_nz.csv\", col_select = c(\"date\", \"CPI\"), show_col_types = FALSE)"
   ]
  },
  {
   "cell_type": "code",
   "execution_count": 13,
   "metadata": {
    "vscode": {
     "languageId": "r"
    }
   },
   "outputs": [
    {
     "data": {
      "text/html": [
       "<table class=\"dataframe\">\n",
       "<caption>A tibble: 10 × 2</caption>\n",
       "<thead>\n",
       "\t<tr><th scope=col>date.quarter</th><th scope=col>CPI</th></tr>\n",
       "\t<tr><th scope=col>&lt;chr&gt;</th><th scope=col>&lt;dbl&gt;</th></tr>\n",
       "</thead>\n",
       "<tbody>\n",
       "\t<tr><td>1999-03</td><td>-0.09</td></tr>\n",
       "\t<tr><td>1999-06</td><td>-0.36</td></tr>\n",
       "\t<tr><td>1999-09</td><td>-0.51</td></tr>\n",
       "\t<tr><td>1999-12</td><td> 0.51</td></tr>\n",
       "\t<tr><td>2000-03</td><td> 1.49</td></tr>\n",
       "\t<tr><td>2000-06</td><td> 2.00</td></tr>\n",
       "\t<tr><td>2000-09</td><td> 2.99</td></tr>\n",
       "\t<tr><td>2000-12</td><td> 3.98</td></tr>\n",
       "\t<tr><td>2001-03</td><td> 3.06</td></tr>\n",
       "\t<tr><td>2001-06</td><td> 3.24</td></tr>\n",
       "</tbody>\n",
       "</table>\n"
      ],
      "text/latex": [
       "A tibble: 10 × 2\n",
       "\\begin{tabular}{ll}\n",
       " date.quarter & CPI\\\\\n",
       " <chr> & <dbl>\\\\\n",
       "\\hline\n",
       "\t 1999-03 & -0.09\\\\\n",
       "\t 1999-06 & -0.36\\\\\n",
       "\t 1999-09 & -0.51\\\\\n",
       "\t 1999-12 &  0.51\\\\\n",
       "\t 2000-03 &  1.49\\\\\n",
       "\t 2000-06 &  2.00\\\\\n",
       "\t 2000-09 &  2.99\\\\\n",
       "\t 2000-12 &  3.98\\\\\n",
       "\t 2001-03 &  3.06\\\\\n",
       "\t 2001-06 &  3.24\\\\\n",
       "\\end{tabular}\n"
      ],
      "text/markdown": [
       "\n",
       "A tibble: 10 × 2\n",
       "\n",
       "| date.quarter &lt;chr&gt; | CPI &lt;dbl&gt; |\n",
       "|---|---|\n",
       "| 1999-03 | -0.09 |\n",
       "| 1999-06 | -0.36 |\n",
       "| 1999-09 | -0.51 |\n",
       "| 1999-12 |  0.51 |\n",
       "| 2000-03 |  1.49 |\n",
       "| 2000-06 |  2.00 |\n",
       "| 2000-09 |  2.99 |\n",
       "| 2000-12 |  3.98 |\n",
       "| 2001-03 |  3.06 |\n",
       "| 2001-06 |  3.24 |\n",
       "\n"
      ],
      "text/plain": [
       "   date.quarter CPI  \n",
       "1  1999-03      -0.09\n",
       "2  1999-06      -0.36\n",
       "3  1999-09      -0.51\n",
       "4  1999-12       0.51\n",
       "5  2000-03       1.49\n",
       "6  2000-06       2.00\n",
       "7  2000-09       2.99\n",
       "8  2000-12       3.98\n",
       "9  2001-03       3.06\n",
       "10 2001-06       3.24"
      ]
     },
     "metadata": {},
     "output_type": "display_data"
    }
   ],
   "source": [
    "q_cpi <- cpi %>%\n",
    "    mutate(date.quarter = map_chr(cpi$date, Yqd2Ym), date.datetime = map(cpi$date, Yqd2Date))%>%\n",
    "    filter(date.datetime > as.Date(\"1999-01-01\") & date.datetime < as.Date(\"2022-10-01\")) %>%\n",
    "    select(date.quarter, CPI)\n",
    "    \n",
    "q_cpi %>% head(10)"
   ]
  },
  {
   "cell_type": "code",
   "execution_count": 14,
   "metadata": {
    "vscode": {
     "languageId": "r"
    }
   },
   "outputs": [],
   "source": [
    "# OCR - official cash rate\n",
    "ocr <- read_csv(\"data/official_cash_rate.csv\", col_select = c(\"date\", \"ocr\"), show_col_types = FALSE)\n",
    "ocr$date.month = map_chr(ocr$date, Yqd2Ym)\n",
    "ocr$date.datetime = map(ocr$date, Yqd2Date)"
   ]
  },
  {
   "cell_type": "code",
   "execution_count": 15,
   "metadata": {
    "vscode": {
     "languageId": "r"
    }
   },
   "outputs": [
    {
     "data": {
      "text/html": [
       "<table class=\"dataframe\">\n",
       "<caption>A tibble: 10 × 2</caption>\n",
       "<thead>\n",
       "\t<tr><th scope=col>date.quarter</th><th scope=col>ocr_quarter</th></tr>\n",
       "\t<tr><th scope=col>&lt;chr&gt;</th><th scope=col>&lt;dbl&gt;</th></tr>\n",
       "</thead>\n",
       "<tbody>\n",
       "\t<tr><td>1999-03</td><td>4.500000</td></tr>\n",
       "\t<tr><td>1999-06</td><td>4.500000</td></tr>\n",
       "\t<tr><td>1999-09</td><td>4.500000</td></tr>\n",
       "\t<tr><td>1999-12</td><td>4.666667</td></tr>\n",
       "\t<tr><td>2000-03</td><td>5.583333</td></tr>\n",
       "\t<tr><td>2000-06</td><td>6.333333</td></tr>\n",
       "\t<tr><td>2000-09</td><td>6.500000</td></tr>\n",
       "\t<tr><td>2000-12</td><td>6.500000</td></tr>\n",
       "\t<tr><td>2001-03</td><td>6.458333</td></tr>\n",
       "\t<tr><td>2001-06</td><td>5.958333</td></tr>\n",
       "</tbody>\n",
       "</table>\n"
      ],
      "text/latex": [
       "A tibble: 10 × 2\n",
       "\\begin{tabular}{ll}\n",
       " date.quarter & ocr\\_quarter\\\\\n",
       " <chr> & <dbl>\\\\\n",
       "\\hline\n",
       "\t 1999-03 & 4.500000\\\\\n",
       "\t 1999-06 & 4.500000\\\\\n",
       "\t 1999-09 & 4.500000\\\\\n",
       "\t 1999-12 & 4.666667\\\\\n",
       "\t 2000-03 & 5.583333\\\\\n",
       "\t 2000-06 & 6.333333\\\\\n",
       "\t 2000-09 & 6.500000\\\\\n",
       "\t 2000-12 & 6.500000\\\\\n",
       "\t 2001-03 & 6.458333\\\\\n",
       "\t 2001-06 & 5.958333\\\\\n",
       "\\end{tabular}\n"
      ],
      "text/markdown": [
       "\n",
       "A tibble: 10 × 2\n",
       "\n",
       "| date.quarter &lt;chr&gt; | ocr_quarter &lt;dbl&gt; |\n",
       "|---|---|\n",
       "| 1999-03 | 4.500000 |\n",
       "| 1999-06 | 4.500000 |\n",
       "| 1999-09 | 4.500000 |\n",
       "| 1999-12 | 4.666667 |\n",
       "| 2000-03 | 5.583333 |\n",
       "| 2000-06 | 6.333333 |\n",
       "| 2000-09 | 6.500000 |\n",
       "| 2000-12 | 6.500000 |\n",
       "| 2001-03 | 6.458333 |\n",
       "| 2001-06 | 5.958333 |\n",
       "\n"
      ],
      "text/plain": [
       "   date.quarter ocr_quarter\n",
       "1  1999-03      4.500000   \n",
       "2  1999-06      4.500000   \n",
       "3  1999-09      4.500000   \n",
       "4  1999-12      4.666667   \n",
       "5  2000-03      5.583333   \n",
       "6  2000-06      6.333333   \n",
       "7  2000-09      6.500000   \n",
       "8  2000-12      6.500000   \n",
       "9  2001-03      6.458333   \n",
       "10 2001-06      5.958333   "
      ]
     },
     "metadata": {},
     "output_type": "display_data"
    }
   ],
   "source": [
    "m_ocr <- ocr %>%\n",
    "    filter(date.datetime > as.Date(\"1999-01-01\") & date.datetime < as.Date(\"2022-10-01\")) %>%\n",
    "    group_by(date.month) %>%\n",
    "    summarise(ocr_month = mean(ocr))\n",
    "\n",
    "# completing missing data for the month\n",
    "month_seq = map_chr(seq(as.Date(\"1999-1-1\"), as.Date(\"2022-9-1\"), \"month\"), Yqd2Ym)\n",
    "\n",
    "all_month_ocr <- merge(\n",
    "     x = data.frame(date.month = month_seq),\n",
    "     y = m_ocr,\n",
    "     all.x = TRUE) %>%\n",
    "    fill(ocr_month) %>% fill(ocr_month, .direction = \"downup\")\n",
    "\n",
    "all_month_ocr$date.quarter = map_chr(all_month_ocr$date.month, Ym2Yq)\n",
    "    \n",
    "q_ocr <- all_month_ocr %>%\n",
    "    group_by(date.quarter) %>%\n",
    "    summarise(ocr_quarter = mean(ocr_month)) %>%\n",
    "    mutate(date.quarter = map_chr(.$date.quarter, Yq2Ym))\n",
    "\n",
    "q_ocr %>% head(10)"
   ]
  },
  {
   "cell_type": "code",
   "execution_count": 16,
   "metadata": {
    "vscode": {
     "languageId": "r"
    }
   },
   "outputs": [
    {
     "data": {
      "text/html": [
       "<table class=\"dataframe\">\n",
       "<caption>A tibble: 10 × 2</caption>\n",
       "<thead>\n",
       "\t<tr><th scope=col>date.quarter</th><th scope=col>usd_rate_quarter</th></tr>\n",
       "\t<tr><th scope=col>&lt;chr&gt;</th><th scope=col>&lt;dbl&gt;</th></tr>\n",
       "</thead>\n",
       "<tbody>\n",
       "\t<tr><td>1999-03</td><td>0.5383333</td></tr>\n",
       "\t<tr><td>1999-06</td><td>0.5426667</td></tr>\n",
       "\t<tr><td>1999-09</td><td>0.5253333</td></tr>\n",
       "\t<tr><td>1999-12</td><td>0.5120000</td></tr>\n",
       "\t<tr><td>2000-03</td><td>0.4986667</td></tr>\n",
       "\t<tr><td>2000-06</td><td>0.4793333</td></tr>\n",
       "\t<tr><td>2000-09</td><td>0.4420000</td></tr>\n",
       "\t<tr><td>2000-12</td><td>0.4093333</td></tr>\n",
       "\t<tr><td>2001-03</td><td>0.4333333</td></tr>\n",
       "\t<tr><td>2001-06</td><td>0.4146667</td></tr>\n",
       "</tbody>\n",
       "</table>\n"
      ],
      "text/latex": [
       "A tibble: 10 × 2\n",
       "\\begin{tabular}{ll}\n",
       " date.quarter & usd\\_rate\\_quarter\\\\\n",
       " <chr> & <dbl>\\\\\n",
       "\\hline\n",
       "\t 1999-03 & 0.5383333\\\\\n",
       "\t 1999-06 & 0.5426667\\\\\n",
       "\t 1999-09 & 0.5253333\\\\\n",
       "\t 1999-12 & 0.5120000\\\\\n",
       "\t 2000-03 & 0.4986667\\\\\n",
       "\t 2000-06 & 0.4793333\\\\\n",
       "\t 2000-09 & 0.4420000\\\\\n",
       "\t 2000-12 & 0.4093333\\\\\n",
       "\t 2001-03 & 0.4333333\\\\\n",
       "\t 2001-06 & 0.4146667\\\\\n",
       "\\end{tabular}\n"
      ],
      "text/markdown": [
       "\n",
       "A tibble: 10 × 2\n",
       "\n",
       "| date.quarter &lt;chr&gt; | usd_rate_quarter &lt;dbl&gt; |\n",
       "|---|---|\n",
       "| 1999-03 | 0.5383333 |\n",
       "| 1999-06 | 0.5426667 |\n",
       "| 1999-09 | 0.5253333 |\n",
       "| 1999-12 | 0.5120000 |\n",
       "| 2000-03 | 0.4986667 |\n",
       "| 2000-06 | 0.4793333 |\n",
       "| 2000-09 | 0.4420000 |\n",
       "| 2000-12 | 0.4093333 |\n",
       "| 2001-03 | 0.4333333 |\n",
       "| 2001-06 | 0.4146667 |\n",
       "\n"
      ],
      "text/plain": [
       "   date.quarter usd_rate_quarter\n",
       "1  1999-03      0.5383333       \n",
       "2  1999-06      0.5426667       \n",
       "3  1999-09      0.5253333       \n",
       "4  1999-12      0.5120000       \n",
       "5  2000-03      0.4986667       \n",
       "6  2000-06      0.4793333       \n",
       "7  2000-09      0.4420000       \n",
       "8  2000-12      0.4093333       \n",
       "9  2001-03      0.4333333       \n",
       "10 2001-06      0.4146667       "
      ]
     },
     "metadata": {},
     "output_type": "display_data"
    }
   ],
   "source": [
    "# exchange rate NZD-USD\n",
    "nzd_usd <- read_csv(\"data/nzd-usd_exchange_rate.csv\", col_select = c(\"date\", \"USD exchange rate\"), show_col_types = FALSE)\n",
    "nzd_usd$date.month = map_chr(nzd_usd$date, Yqd2Ym)\n",
    "nzd_usd$date.datetime = map(nzd_usd$date, Yqd2Date)\n",
    "\n",
    "m_nzd_usd <- nzd_usd %>%\n",
    "    filter(date.datetime > as.Date(\"1999-01-01\") & date.datetime < as.Date(\"2022-10-01\"))\n",
    "\n",
    "m_nzd_usd$date.quarter = map_chr(m_nzd_usd$date.month, Ym2Yq)\n",
    "# m_nzd_usd$usd_rate_m = m_nzd_usd$'USD exchange rate'\n",
    "names(m_nzd_usd)[names(m_nzd_usd) == \"USD exchange rate\"] <- \"usd_rate_m\"\n",
    "\n",
    "q_nzd_usd <- m_nzd_usd %>%\n",
    "    group_by(date.quarter) %>%\n",
    "    summarise(usd_rate_quarter = mean(usd_rate_m)) %>%\n",
    "    mutate(date.quarter = map_chr(.$date.quarter, Yq2Ym))\n",
    "q_nzd_usd %>% head(10)"
   ]
  },
  {
   "cell_type": "code",
   "execution_count": 17,
   "metadata": {
    "vscode": {
     "languageId": "r"
    }
   },
   "outputs": [
    {
     "data": {
      "text/html": [
       "<table class=\"dataframe\">\n",
       "<caption>A tibble: 10 × 2</caption>\n",
       "<thead>\n",
       "\t<tr><th scope=col>date.quarter</th><th scope=col>cny_rate_quarter</th></tr>\n",
       "\t<tr><th scope=col>&lt;chr&gt;</th><th scope=col>&lt;dbl&gt;</th></tr>\n",
       "</thead>\n",
       "<tbody>\n",
       "\t<tr><td>1999-03</td><td>4.457178</td></tr>\n",
       "\t<tr><td>1999-06</td><td>4.496075</td></tr>\n",
       "\t<tr><td>1999-09</td><td>4.349201</td></tr>\n",
       "\t<tr><td>1999-12</td><td>4.235615</td></tr>\n",
       "\t<tr><td>2000-03</td><td>4.119027</td></tr>\n",
       "\t<tr><td>2000-06</td><td>3.961808</td></tr>\n",
       "\t<tr><td>2000-09</td><td>3.651363</td></tr>\n",
       "\t<tr><td>2000-12</td><td>3.394744</td></tr>\n",
       "\t<tr><td>2001-03</td><td>3.579958</td></tr>\n",
       "\t<tr><td>2001-06</td><td>3.428706</td></tr>\n",
       "</tbody>\n",
       "</table>\n"
      ],
      "text/latex": [
       "A tibble: 10 × 2\n",
       "\\begin{tabular}{ll}\n",
       " date.quarter & cny\\_rate\\_quarter\\\\\n",
       " <chr> & <dbl>\\\\\n",
       "\\hline\n",
       "\t 1999-03 & 4.457178\\\\\n",
       "\t 1999-06 & 4.496075\\\\\n",
       "\t 1999-09 & 4.349201\\\\\n",
       "\t 1999-12 & 4.235615\\\\\n",
       "\t 2000-03 & 4.119027\\\\\n",
       "\t 2000-06 & 3.961808\\\\\n",
       "\t 2000-09 & 3.651363\\\\\n",
       "\t 2000-12 & 3.394744\\\\\n",
       "\t 2001-03 & 3.579958\\\\\n",
       "\t 2001-06 & 3.428706\\\\\n",
       "\\end{tabular}\n"
      ],
      "text/markdown": [
       "\n",
       "A tibble: 10 × 2\n",
       "\n",
       "| date.quarter &lt;chr&gt; | cny_rate_quarter &lt;dbl&gt; |\n",
       "|---|---|\n",
       "| 1999-03 | 4.457178 |\n",
       "| 1999-06 | 4.496075 |\n",
       "| 1999-09 | 4.349201 |\n",
       "| 1999-12 | 4.235615 |\n",
       "| 2000-03 | 4.119027 |\n",
       "| 2000-06 | 3.961808 |\n",
       "| 2000-09 | 3.651363 |\n",
       "| 2000-12 | 3.394744 |\n",
       "| 2001-03 | 3.579958 |\n",
       "| 2001-06 | 3.428706 |\n",
       "\n"
      ],
      "text/plain": [
       "   date.quarter cny_rate_quarter\n",
       "1  1999-03      4.457178        \n",
       "2  1999-06      4.496075        \n",
       "3  1999-09      4.349201        \n",
       "4  1999-12      4.235615        \n",
       "5  2000-03      4.119027        \n",
       "6  2000-06      3.961808        \n",
       "7  2000-09      3.651363        \n",
       "8  2000-12      3.394744        \n",
       "9  2001-03      3.579958        \n",
       "10 2001-06      3.428706        "
      ]
     },
     "metadata": {},
     "output_type": "display_data"
    }
   ],
   "source": [
    "# exchange rate NZD-CNY\n",
    "nzd_cny <- read_csv(\"data/nzd-cny_exchange_rate.csv\", col_select = c(\"date\", \"NZD_CNY_rate\"), show_col_types = FALSE)\n",
    "nzd_cny$date.month = map_chr(nzd_cny$date, Yqd2Ym)\n",
    "nzd_cny$date.datetime = map(nzd_cny$date, Yqd2Date)\n",
    "\n",
    "m_nzd_cny <- nzd_cny %>%\n",
    "    filter(date.datetime > as.Date(\"1999-01-01\") & date.datetime < as.Date(\"2022-10-01\"))\n",
    "\n",
    "m_nzd_cny$date.quarter = map_chr(m_nzd_cny$date.month, Ym2Yq)\n",
    "\n",
    "q_nzd_cny <- m_nzd_cny %>%\n",
    "    group_by(date.quarter) %>%\n",
    "    summarise(cny_rate_quarter = mean(NZD_CNY_rate)) %>%\n",
    "    mutate(date.quarter = map_chr(.$date.quarter, Yq2Ym))\n",
    "q_nzd_cny %>% head(10)"
   ]
  },
  {
   "cell_type": "code",
   "execution_count": 18,
   "metadata": {
    "vscode": {
     "languageId": "r"
    }
   },
   "outputs": [
    {
     "data": {
      "text/html": [
       "<table class=\"dataframe\">\n",
       "<caption>A tibble: 10 × 2</caption>\n",
       "<thead>\n",
       "\t<tr><th scope=col>date.quarter</th><th scope=col>ump_rate</th></tr>\n",
       "\t<tr><th scope=col>&lt;chr&gt;</th><th scope=col>&lt;chr&gt;</th></tr>\n",
       "</thead>\n",
       "<tbody>\n",
       "\t<tr><td>1999-03</td><td>7.6</td></tr>\n",
       "\t<tr><td>1999-06</td><td>7.4</td></tr>\n",
       "\t<tr><td>1999-09</td><td>7.0</td></tr>\n",
       "\t<tr><td>1999-12</td><td>6.5</td></tr>\n",
       "\t<tr><td>2000-03</td><td>6.6</td></tr>\n",
       "\t<tr><td>2000-06</td><td>6.4</td></tr>\n",
       "\t<tr><td>2000-09</td><td>6.1</td></tr>\n",
       "\t<tr><td>2000-12</td><td>5.9</td></tr>\n",
       "\t<tr><td>2001-03</td><td>5.6</td></tr>\n",
       "\t<tr><td>2001-06</td><td>5.5</td></tr>\n",
       "</tbody>\n",
       "</table>\n"
      ],
      "text/latex": [
       "A tibble: 10 × 2\n",
       "\\begin{tabular}{ll}\n",
       " date.quarter & ump\\_rate\\\\\n",
       " <chr> & <chr>\\\\\n",
       "\\hline\n",
       "\t 1999-03 & 7.6\\\\\n",
       "\t 1999-06 & 7.4\\\\\n",
       "\t 1999-09 & 7.0\\\\\n",
       "\t 1999-12 & 6.5\\\\\n",
       "\t 2000-03 & 6.6\\\\\n",
       "\t 2000-06 & 6.4\\\\\n",
       "\t 2000-09 & 6.1\\\\\n",
       "\t 2000-12 & 5.9\\\\\n",
       "\t 2001-03 & 5.6\\\\\n",
       "\t 2001-06 & 5.5\\\\\n",
       "\\end{tabular}\n"
      ],
      "text/markdown": [
       "\n",
       "A tibble: 10 × 2\n",
       "\n",
       "| date.quarter &lt;chr&gt; | ump_rate &lt;chr&gt; |\n",
       "|---|---|\n",
       "| 1999-03 | 7.6 |\n",
       "| 1999-06 | 7.4 |\n",
       "| 1999-09 | 7.0 |\n",
       "| 1999-12 | 6.5 |\n",
       "| 2000-03 | 6.6 |\n",
       "| 2000-06 | 6.4 |\n",
       "| 2000-09 | 6.1 |\n",
       "| 2000-12 | 5.9 |\n",
       "| 2001-03 | 5.6 |\n",
       "| 2001-06 | 5.5 |\n",
       "\n"
      ],
      "text/plain": [
       "   date.quarter ump_rate\n",
       "1  1999-03      7.6     \n",
       "2  1999-06      7.4     \n",
       "3  1999-09      7.0     \n",
       "4  1999-12      6.5     \n",
       "5  2000-03      6.6     \n",
       "6  2000-06      6.4     \n",
       "7  2000-09      6.1     \n",
       "8  2000-12      5.9     \n",
       "9  2001-03      5.6     \n",
       "10 2001-06      5.5     "
      ]
     },
     "metadata": {},
     "output_type": "display_data"
    }
   ],
   "source": [
    "# unemployment rate\n",
    "unemployment_rate <- read_excel(\"data/labour_force_status.xlsx\") %>%\n",
    "    select(date, \"Unemployment Rate\")\n",
    "\n",
    "names(unemployment_rate)[names(unemployment_rate) == \"Unemployment Rate\"] <- \"ump_rate\"\n",
    "\n",
    "q_ump_rate <- unemployment_rate %>%\n",
    "    mutate(date.quarter = map_chr(unemployment_rate$date, Yq2Ym), date.datetime = map(unemployment_rate$date, Yq2Date))%>%\n",
    "    filter(date.datetime > as.Date(\"1999-01-01\") & date.datetime < as.Date(\"2022-10-01\")) %>%\n",
    "    select(date.quarter, ump_rate)\n",
    "\n",
    "q_ump_rate %>% head(10)"
   ]
  },
  {
   "cell_type": "code",
   "execution_count": 19,
   "metadata": {
    "vscode": {
     "languageId": "r"
    }
   },
   "outputs": [
    {
     "name": "stderr",
     "output_type": "stream",
     "text": [
      "\u001b[1m\u001b[22mNew names:\n",
      "\u001b[36m*\u001b[39m `` -> `...1`\n"
     ]
    },
    {
     "data": {
      "text/html": [
       "<table class=\"dataframe\">\n",
       "<caption>A tibble: 5 × 2</caption>\n",
       "<thead>\n",
       "\t<tr><th scope=col>date.quarter</th><th scope=col>tourism_count</th></tr>\n",
       "\t<tr><th scope=col>&lt;chr&gt;</th><th scope=col>&lt;dbl&gt;</th></tr>\n",
       "</thead>\n",
       "<tbody>\n",
       "\t<tr><td>2021-06</td><td>141126</td></tr>\n",
       "\t<tr><td>2021-09</td><td> 35195</td></tr>\n",
       "\t<tr><td>2021-12</td><td> 15157</td></tr>\n",
       "\t<tr><td>2022-03</td><td> 37892</td></tr>\n",
       "\t<tr><td>2022-06</td><td>221706</td></tr>\n",
       "</tbody>\n",
       "</table>\n"
      ],
      "text/latex": [
       "A tibble: 5 × 2\n",
       "\\begin{tabular}{ll}\n",
       " date.quarter & tourism\\_count\\\\\n",
       " <chr> & <dbl>\\\\\n",
       "\\hline\n",
       "\t 2021-06 & 141126\\\\\n",
       "\t 2021-09 &  35195\\\\\n",
       "\t 2021-12 &  15157\\\\\n",
       "\t 2022-03 &  37892\\\\\n",
       "\t 2022-06 & 221706\\\\\n",
       "\\end{tabular}\n"
      ],
      "text/markdown": [
       "\n",
       "A tibble: 5 × 2\n",
       "\n",
       "| date.quarter &lt;chr&gt; | tourism_count &lt;dbl&gt; |\n",
       "|---|---|\n",
       "| 2021-06 | 141126 |\n",
       "| 2021-09 |  35195 |\n",
       "| 2021-12 |  15157 |\n",
       "| 2022-03 |  37892 |\n",
       "| 2022-06 | 221706 |\n",
       "\n"
      ],
      "text/plain": [
       "  date.quarter tourism_count\n",
       "1 2021-06      141126       \n",
       "2 2021-09       35195       \n",
       "3 2021-12       15157       \n",
       "4 2022-03       37892       \n",
       "5 2022-06      221706       "
      ]
     },
     "metadata": {},
     "output_type": "display_data"
    }
   ],
   "source": [
    "# tourism data\n",
    "tourism <- read_csv(\"data/tourism_final_clean_arriavals_1921Q1-2022Q2.csv\", show_col_types = FALSE)\n",
    "#data_tourisms <- read_csv(\"data/tourism_final_clean_arriavals_1921Q1-2022Q2.csv\", col_select = c(\"Id\", \"date.quarter\",\"Actual_counts\"), show_col_types = FALSE)\n",
    "names(tourism)[names(tourism) == \"date\"] <- \"date.quarter\"\n",
    "names(tourism)[names(tourism) == \"Actual_counts\"] <- \"tourism_count\"\n",
    "\n",
    "q_tourism <- tourism %>% \n",
    "    mutate(date.datetime = map(tourism$date.quarter, Yqd2Date)) %>%\n",
    "    filter(date.datetime > as.Date(\"1999-01-01\") & date.datetime < as.Date(\"2022-10-01\")) %>%\n",
    "    select(date.quarter, tourism_count)\n",
    "\n",
    "q_tourism %>% tail(5)"
   ]
  },
  {
   "cell_type": "code",
   "execution_count": 22,
   "metadata": {
    "vscode": {
     "languageId": "r"
    }
   },
   "outputs": [
    {
     "name": "stderr",
     "output_type": "stream",
     "text": [
      "\u001b[1m\u001b[22mJoining, by = \"date.quarter\"\n",
      "\u001b[1m\u001b[22mJoining, by = \"date.quarter\"\n",
      "\u001b[1m\u001b[22mJoining, by = \"date.quarter\"\n",
      "\u001b[1m\u001b[22mJoining, by = \"date.quarter\"\n",
      "\u001b[1m\u001b[22mJoining, by = \"date.quarter\"\n",
      "\u001b[1m\u001b[22mJoining, by = \"date.quarter\"\n"
     ]
    },
    {
     "data": {
      "text/html": [
       "<table class=\"dataframe\">\n",
       "<caption>A tibble: 10 × 8</caption>\n",
       "<thead>\n",
       "\t<tr><th scope=col>date.quarter</th><th scope=col>ocr_quarter</th><th scope=col>CPI</th><th scope=col>HPI</th><th scope=col>ump_rate</th><th scope=col>usd_rate_quarter</th><th scope=col>cny_rate_quarter</th><th scope=col>tourism_count</th></tr>\n",
       "\t<tr><th scope=col>&lt;chr&gt;</th><th scope=col>&lt;dbl&gt;</th><th scope=col>&lt;dbl&gt;</th><th scope=col>&lt;dbl&gt;</th><th scope=col>&lt;chr&gt;</th><th scope=col>&lt;dbl&gt;</th><th scope=col>&lt;dbl&gt;</th><th scope=col>&lt;dbl&gt;</th></tr>\n",
       "</thead>\n",
       "<tbody>\n",
       "\t<tr><td>2020-06</td><td>0.3750000</td><td>1.45</td><td>2807.4</td><td>4.2</td><td>0.6176667</td><td>4.382507</td><td>  7431</td></tr>\n",
       "\t<tr><td>2020-09</td><td>0.2500000</td><td>1.44</td><td>2827.4</td><td>5.4</td><td>0.6620000</td><td>4.579023</td><td> 13782</td></tr>\n",
       "\t<tr><td>2020-12</td><td>0.2500000</td><td>1.44</td><td>3029.2</td><td>5.1</td><td>0.6860000</td><td>4.546989</td><td> 16093</td></tr>\n",
       "\t<tr><td>2021-03</td><td>0.2500000</td><td>1.52</td><td>3230.7</td><td>4.8</td><td>0.7190000</td><td>4.653247</td><td> 15384</td></tr>\n",
       "\t<tr><td>2021-06</td><td>0.2500000</td><td>3.34</td><td>3447.5</td><td>4.2</td><td>0.7153333</td><td>4.617931</td><td>141126</td></tr>\n",
       "\t<tr><td>2021-09</td><td>0.2500000</td><td>4.93</td><td>3613.5</td><td>3.5</td><td>0.7003333</td><td>4.534847</td><td> 35195</td></tr>\n",
       "\t<tr><td>2021-12</td><td>0.5833333</td><td>5.95</td><td>3865.2</td><td>3.4</td><td>0.6953333</td><td>4.443587</td><td> 15157</td></tr>\n",
       "\t<tr><td>2022-03</td><td>0.8333333</td><td>6.93</td><td>3986.7</td><td>3.4</td><td>0.6756667</td><td>4.294002</td><td> 37892</td></tr>\n",
       "\t<tr><td>2022-06</td><td>1.5833333</td><td>7.30</td><td>3875.0</td><td>3.5</td><td>0.6510000</td><td>4.295036</td><td>221706</td></tr>\n",
       "\t<tr><td>2022-09</td><td>2.5833333</td><td>7.23</td><td>3418.3</td><td>3.5</td><td>0.6136667</td><td>4.196892</td><td>221706</td></tr>\n",
       "</tbody>\n",
       "</table>\n"
      ],
      "text/latex": [
       "A tibble: 10 × 8\n",
       "\\begin{tabular}{llllllll}\n",
       " date.quarter & ocr\\_quarter & CPI & HPI & ump\\_rate & usd\\_rate\\_quarter & cny\\_rate\\_quarter & tourism\\_count\\\\\n",
       " <chr> & <dbl> & <dbl> & <dbl> & <chr> & <dbl> & <dbl> & <dbl>\\\\\n",
       "\\hline\n",
       "\t 2020-06 & 0.3750000 & 1.45 & 2807.4 & 4.2 & 0.6176667 & 4.382507 &   7431\\\\\n",
       "\t 2020-09 & 0.2500000 & 1.44 & 2827.4 & 5.4 & 0.6620000 & 4.579023 &  13782\\\\\n",
       "\t 2020-12 & 0.2500000 & 1.44 & 3029.2 & 5.1 & 0.6860000 & 4.546989 &  16093\\\\\n",
       "\t 2021-03 & 0.2500000 & 1.52 & 3230.7 & 4.8 & 0.7190000 & 4.653247 &  15384\\\\\n",
       "\t 2021-06 & 0.2500000 & 3.34 & 3447.5 & 4.2 & 0.7153333 & 4.617931 & 141126\\\\\n",
       "\t 2021-09 & 0.2500000 & 4.93 & 3613.5 & 3.5 & 0.7003333 & 4.534847 &  35195\\\\\n",
       "\t 2021-12 & 0.5833333 & 5.95 & 3865.2 & 3.4 & 0.6953333 & 4.443587 &  15157\\\\\n",
       "\t 2022-03 & 0.8333333 & 6.93 & 3986.7 & 3.4 & 0.6756667 & 4.294002 &  37892\\\\\n",
       "\t 2022-06 & 1.5833333 & 7.30 & 3875.0 & 3.5 & 0.6510000 & 4.295036 & 221706\\\\\n",
       "\t 2022-09 & 2.5833333 & 7.23 & 3418.3 & 3.5 & 0.6136667 & 4.196892 & 221706\\\\\n",
       "\\end{tabular}\n"
      ],
      "text/markdown": [
       "\n",
       "A tibble: 10 × 8\n",
       "\n",
       "| date.quarter &lt;chr&gt; | ocr_quarter &lt;dbl&gt; | CPI &lt;dbl&gt; | HPI &lt;dbl&gt; | ump_rate &lt;chr&gt; | usd_rate_quarter &lt;dbl&gt; | cny_rate_quarter &lt;dbl&gt; | tourism_count &lt;dbl&gt; |\n",
       "|---|---|---|---|---|---|---|---|\n",
       "| 2020-06 | 0.3750000 | 1.45 | 2807.4 | 4.2 | 0.6176667 | 4.382507 |   7431 |\n",
       "| 2020-09 | 0.2500000 | 1.44 | 2827.4 | 5.4 | 0.6620000 | 4.579023 |  13782 |\n",
       "| 2020-12 | 0.2500000 | 1.44 | 3029.2 | 5.1 | 0.6860000 | 4.546989 |  16093 |\n",
       "| 2021-03 | 0.2500000 | 1.52 | 3230.7 | 4.8 | 0.7190000 | 4.653247 |  15384 |\n",
       "| 2021-06 | 0.2500000 | 3.34 | 3447.5 | 4.2 | 0.7153333 | 4.617931 | 141126 |\n",
       "| 2021-09 | 0.2500000 | 4.93 | 3613.5 | 3.5 | 0.7003333 | 4.534847 |  35195 |\n",
       "| 2021-12 | 0.5833333 | 5.95 | 3865.2 | 3.4 | 0.6953333 | 4.443587 |  15157 |\n",
       "| 2022-03 | 0.8333333 | 6.93 | 3986.7 | 3.4 | 0.6756667 | 4.294002 |  37892 |\n",
       "| 2022-06 | 1.5833333 | 7.30 | 3875.0 | 3.5 | 0.6510000 | 4.295036 | 221706 |\n",
       "| 2022-09 | 2.5833333 | 7.23 | 3418.3 | 3.5 | 0.6136667 | 4.196892 | 221706 |\n",
       "\n"
      ],
      "text/plain": [
       "   date.quarter ocr_quarter CPI  HPI    ump_rate usd_rate_quarter\n",
       "1  2020-06      0.3750000   1.45 2807.4 4.2      0.6176667       \n",
       "2  2020-09      0.2500000   1.44 2827.4 5.4      0.6620000       \n",
       "3  2020-12      0.2500000   1.44 3029.2 5.1      0.6860000       \n",
       "4  2021-03      0.2500000   1.52 3230.7 4.8      0.7190000       \n",
       "5  2021-06      0.2500000   3.34 3447.5 4.2      0.7153333       \n",
       "6  2021-09      0.2500000   4.93 3613.5 3.5      0.7003333       \n",
       "7  2021-12      0.5833333   5.95 3865.2 3.4      0.6953333       \n",
       "8  2022-03      0.8333333   6.93 3986.7 3.4      0.6756667       \n",
       "9  2022-06      1.5833333   7.30 3875.0 3.5      0.6510000       \n",
       "10 2022-09      2.5833333   7.23 3418.3 3.5      0.6136667       \n",
       "   cny_rate_quarter tourism_count\n",
       "1  4.382507           7431       \n",
       "2  4.579023          13782       \n",
       "3  4.546989          16093       \n",
       "4  4.653247          15384       \n",
       "5  4.617931         141126       \n",
       "6  4.534847          35195       \n",
       "7  4.443587          15157       \n",
       "8  4.294002          37892       \n",
       "9  4.295036         221706       \n",
       "10 4.196892         221706       "
      ]
     },
     "metadata": {},
     "output_type": "display_data"
    }
   ],
   "source": [
    "all_data <- q_ocr %>%\n",
    "    left_join(q_cpi) %>%\n",
    "    left_join(q_hpi) %>%\n",
    "    left_join(q_ump_rate) %>%\n",
    "    left_join(q_nzd_usd) %>%\n",
    "    left_join(q_nzd_cny) %>% \n",
    "    left_join(q_tourism) %>%\n",
    "    fill(ump_rate) %>% fill(tourism_count)\n",
    "\n",
    "all_data %>% tail(10)"
   ]
  },
  {
   "cell_type": "code",
   "execution_count": 23,
   "metadata": {
    "vscode": {
     "languageId": "r"
    }
   },
   "outputs": [],
   "source": [
    "data_file_path <- paste(here(), \"data\", \"merge_data.csv\", sep = \"/\")\n",
    "write_csv(all_data, data_file_path)"
   ]
  },
  {
   "cell_type": "markdown",
   "metadata": {},
   "source": [
    "Toursim Data Merge (Come from two following files)\n",
    "#tourism_final_clean_arriavals_1921Q1-2022Q2\n",
    "#"
   ]
  }
 ],
 "metadata": {
  "kernelspec": {
   "display_name": "R",
   "language": "R",
   "name": "ir"
  },
  "language_info": {
   "codemirror_mode": "r",
   "file_extension": ".r",
   "mimetype": "text/x-r-source",
   "name": "R",
   "pygments_lexer": "r",
   "version": "4.2.1"
  },
  "orig_nbformat": 4
 },
 "nbformat": 4,
 "nbformat_minor": 2
}
